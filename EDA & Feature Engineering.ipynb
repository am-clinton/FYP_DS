{
 "cells": [
  {
   "metadata": {},
   "cell_type": "markdown",
   "source": "IMPORTS",
   "id": "eac2bbbc43d8fa0f"
  },
  {
   "cell_type": "code",
   "id": "initial_id",
   "metadata": {
    "collapsed": true,
    "ExecuteTime": {
     "end_time": "2025-07-08T14:33:57.949344Z",
     "start_time": "2025-07-08T14:33:57.936166Z"
    }
   },
   "source": [
    "import pandas as pd\n",
    "import numpy as np\n",
    "from catboost import CatBoostRegressor, Pool\n",
    "from sklearn.model_selection import TimeSeriesSplit\n",
    "from sklearn.metrics import mean_squared_error\n",
    "import files"
   ],
   "outputs": [],
   "execution_count": 12
  },
  {
   "metadata": {},
   "cell_type": "markdown",
   "source": "Loading Data",
   "id": "55b07afd3bac50e3"
  },
  {
   "metadata": {
    "ExecuteTime": {
     "end_time": "2025-07-08T14:13:47.975184Z",
     "start_time": "2025-07-08T14:13:47.919238Z"
    }
   },
   "cell_type": "code",
   "source": [
    "# Step 1: Load the actual column headers (from second row, index 1)\n",
    "header_row = pd.read_csv('Data/MILCO_SALES_2024_2025.csv', skiprows=0, nrows=1)\n",
    "\n",
    "# Clean header strings: remove weird characters like non-breaking space or en-dash\n",
    "cleaned_columns = (\n",
    "    header_row.columns\n",
    "    .astype(str)\n",
    "    .str.strip()\n",
    "    .str.replace('\\u00a0', '', regex=False)  # remove non-breaking space\n",
    "    .str.replace('\\u2013', '-', regex=False) # en-dash\n",
    "    .str.replace('–', '-', regex=False)      # literal en-dash\n",
    ")\n",
    "\n",
    "# Step 2: Load the actual data (skip 2 rows)\n",
    "df = pd.read_csv('Data/MILCO_SALES_2024_2025.csv', skiprows=[0, 1], header=None)\n",
    "df.columns = cleaned_columns\n",
    "\n",
    "# Rename first two columns\n",
    "df = df.rename(columns={df.columns[0]: 'Product', df.columns[1]: 'Size'})\n",
    "\n",
    "# Drop footer blank rows\n",
    "df = df.dropna(subset=['Product']).reset_index(drop=True)\n",
    "\n",
    "# Get all columns except 'Product' and 'Size'\n",
    "sales_cols = [col for col in df.columns if col not in ['Product', 'Size']]\n",
    "\n",
    "# Convert sales values to numeric (remove commas)\n",
    "df[sales_cols] = df[sales_cols].replace({',': ''}, regex=True).apply(pd.to_numeric, errors='coerce')\n",
    "\n",
    "# Melt to long format\n",
    "df_long = pd.melt(\n",
    "    df,\n",
    "    id_vars=['Product', 'Size'],\n",
    "    value_vars=sales_cols,\n",
    "    var_name='Date',\n",
    "    value_name='Sales'\n",
    ")\n",
    "\n",
    "# Clean the Date strings before parsing\n",
    "df_long['Date'] = (\n",
    "    df_long['Date']\n",
    "    .astype(str)\n",
    "    .str.strip()\n",
    "    .str.replace('\\u00a0', '', regex=False)\n",
    "    .str.replace('\\u2013', '-', regex=False)\n",
    "    .str.replace('–', '-', regex=False)\n",
    ")\n",
    "\n",
    "# Convert to datetime\n",
    "df_long['Date'] = pd.to_datetime(df_long['Date'], format='%b-%y', errors='coerce')\n",
    "\n",
    "# Final tidy\n",
    "df_long = df_long.sort_values(['Product', 'Date']).reset_index(drop=True)\n",
    "\n",
    "# Preview\n",
    "print(df_long.head())\n",
    "print(f\"{df_long['Date'].isna().sum()} dates failed to parse.\")\n"
   ],
   "id": "9c422e31d4da7212",
   "outputs": [
    {
     "name": "stdout",
     "output_type": "stream",
     "text": [
      "             Product    Size       Date     Sales\n",
      "0  Butter (Salted )   200 gm 2024-01-01   48200.0\n",
      "1  Butter (Salted )   200 gm 2024-02-01   18200.0\n",
      "2  Butter (Salted )   200 gm 2024-03-01   45000.0\n",
      "3  Butter (Salted )   200 gm 2024-04-01  103800.0\n",
      "4  Butter (Salted )   200 gm 2024-05-01   71600.0\n",
      "0 dates failed to parse.\n"
     ]
    }
   ],
   "execution_count": 3
  },
  {
   "metadata": {},
   "cell_type": "markdown",
   "source": "Handling N/A values",
   "id": "bba0b0361a9f2d8a"
  },
  {
   "metadata": {
    "ExecuteTime": {
     "end_time": "2025-07-08T14:14:11.902493Z",
     "start_time": "2025-07-08T14:14:11.892519Z"
    }
   },
   "cell_type": "code",
   "source": [
    "na_counts = df_long.isna().sum()\n",
    "print(\"Missing values per column:\\n\", na_counts)"
   ],
   "id": "5a60e680f0a17cf8",
   "outputs": [
    {
     "name": "stdout",
     "output_type": "stream",
     "text": [
      "Missing values per column:\n",
      " Product    0\n",
      "Size       0\n",
      "Date       0\n",
      "Sales      6\n",
      "dtype: int64\n"
     ]
    }
   ],
   "execution_count": 4
  },
  {
   "metadata": {
    "ExecuteTime": {
     "end_time": "2025-07-08T14:16:28.241625Z",
     "start_time": "2025-07-08T14:16:28.228155Z"
    }
   },
   "cell_type": "code",
   "source": [
    "missing_rows = df_long[df_long.isna().any(axis=1)]\n",
    "print(missing_rows.head())"
   ],
   "id": "16817268444524a7",
   "outputs": [
    {
     "name": "stdout",
     "output_type": "stream",
     "text": [
      "                    Product    Size       Date  Sales\n",
      "18       Butter (Unsalted)   200 gm 2024-02-01    NaN\n",
      "19       Butter (Unsalted)   200 gm 2024-03-01    NaN\n",
      "392  M/ Powder Highland Ela  400 gm 2024-02-01    NaN\n",
      "407  M/ Powder Highland Ela  400 gm 2025-05-01    NaN\n",
      "419      M/P- Non Fat-       400 gm 2024-12-01    NaN\n"
     ]
    }
   ],
   "execution_count": 5
  },
  {
   "metadata": {
    "ExecuteTime": {
     "end_time": "2025-07-08T14:17:05.991030Z",
     "start_time": "2025-07-08T14:17:05.983768Z"
    }
   },
   "cell_type": "code",
   "source": [
    "df_long = df_long.fillna(0)\n",
    "print(\"Any missing values left?\", df_long.isna().any().any())"
   ],
   "id": "8d9e1c19086a88e8",
   "outputs": [
    {
     "name": "stdout",
     "output_type": "stream",
     "text": [
      "Any missing values left? False\n"
     ]
    }
   ],
   "execution_count": 7
  },
  {
   "metadata": {},
   "cell_type": "markdown",
   "source": "CREATING LAG FEATURE AND ROLLING AVERAGE",
   "id": "73b809c786b1c27f"
  },
  {
   "metadata": {
    "ExecuteTime": {
     "end_time": "2025-07-08T14:19:39.280920Z",
     "start_time": "2025-07-08T14:19:39.253672Z"
    }
   },
   "cell_type": "code",
   "source": [
    "# Sort before creating lag/rolling features\n",
    "df_long = df_long.sort_values(['Product', 'Size', 'Date'])\n",
    "\n",
    "# Create lag features\n",
    "for lag in [1, 2, 3, 12]:\n",
    "    df_long[f'lag_{lag}'] = (\n",
    "        df_long\n",
    "        .groupby(['Product', 'Size'])['Sales']\n",
    "        .shift(lag)\n",
    "        .fillna(0)\n",
    "    )\n",
    "\n",
    "# Create rolling averages\n",
    "df_long['roll_3'] = (\n",
    "    df_long\n",
    "    .groupby(['Product', 'Size'])['Sales']\n",
    "    .shift(1)                         # exclude current month\n",
    "    .rolling(window=3, min_periods=1)\n",
    "    .mean()\n",
    "    .fillna(0)\n",
    ")\n",
    "\n",
    "df_long['roll_6'] = (\n",
    "    df_long\n",
    "    .groupby(['Product', 'Size'])['Sales']\n",
    "    .shift(1)\n",
    "    .rolling(window=6, min_periods=1)\n",
    "    .mean()\n",
    "    .fillna(0)\n",
    ")\n"
   ],
   "id": "1f0971f5c5f9236",
   "outputs": [],
   "execution_count": 8
  },
  {
   "metadata": {
    "ExecuteTime": {
     "end_time": "2025-07-08T14:20:01.565838Z",
     "start_time": "2025-07-08T14:20:01.529288Z"
    }
   },
   "cell_type": "code",
   "source": "df_long.head()",
   "id": "474021c7e39f8d79",
   "outputs": [
    {
     "data": {
      "text/plain": [
       "             Product    Size       Date     Sales     lag_1    lag_2    lag_3  \\\n",
       "0  Butter (Salted )   200 gm 2024-01-01   48200.0       0.0      0.0      0.0   \n",
       "1  Butter (Salted )   200 gm 2024-02-01   18200.0   48200.0      0.0      0.0   \n",
       "2  Butter (Salted )   200 gm 2024-03-01   45000.0   18200.0  48200.0      0.0   \n",
       "3  Butter (Salted )   200 gm 2024-04-01  103800.0   45000.0  18200.0  48200.0   \n",
       "4  Butter (Salted )   200 gm 2024-05-01   71600.0  103800.0  45000.0  18200.0   \n",
       "\n",
       "   lag_12        roll_3        roll_6  \n",
       "0     0.0      0.000000      0.000000  \n",
       "1     0.0  48200.000000  48200.000000  \n",
       "2     0.0  33200.000000  33200.000000  \n",
       "3     0.0  37133.333333  37133.333333  \n",
       "4     0.0  55666.666667  53800.000000  "
      ],
      "text/html": [
       "<div>\n",
       "<style scoped>\n",
       "    .dataframe tbody tr th:only-of-type {\n",
       "        vertical-align: middle;\n",
       "    }\n",
       "\n",
       "    .dataframe tbody tr th {\n",
       "        vertical-align: top;\n",
       "    }\n",
       "\n",
       "    .dataframe thead th {\n",
       "        text-align: right;\n",
       "    }\n",
       "</style>\n",
       "<table border=\"1\" class=\"dataframe\">\n",
       "  <thead>\n",
       "    <tr style=\"text-align: right;\">\n",
       "      <th></th>\n",
       "      <th>Product</th>\n",
       "      <th>Size</th>\n",
       "      <th>Date</th>\n",
       "      <th>Sales</th>\n",
       "      <th>lag_1</th>\n",
       "      <th>lag_2</th>\n",
       "      <th>lag_3</th>\n",
       "      <th>lag_12</th>\n",
       "      <th>roll_3</th>\n",
       "      <th>roll_6</th>\n",
       "    </tr>\n",
       "  </thead>\n",
       "  <tbody>\n",
       "    <tr>\n",
       "      <th>0</th>\n",
       "      <td>Butter (Salted )</td>\n",
       "      <td>200 gm</td>\n",
       "      <td>2024-01-01</td>\n",
       "      <td>48200.0</td>\n",
       "      <td>0.0</td>\n",
       "      <td>0.0</td>\n",
       "      <td>0.0</td>\n",
       "      <td>0.0</td>\n",
       "      <td>0.000000</td>\n",
       "      <td>0.000000</td>\n",
       "    </tr>\n",
       "    <tr>\n",
       "      <th>1</th>\n",
       "      <td>Butter (Salted )</td>\n",
       "      <td>200 gm</td>\n",
       "      <td>2024-02-01</td>\n",
       "      <td>18200.0</td>\n",
       "      <td>48200.0</td>\n",
       "      <td>0.0</td>\n",
       "      <td>0.0</td>\n",
       "      <td>0.0</td>\n",
       "      <td>48200.000000</td>\n",
       "      <td>48200.000000</td>\n",
       "    </tr>\n",
       "    <tr>\n",
       "      <th>2</th>\n",
       "      <td>Butter (Salted )</td>\n",
       "      <td>200 gm</td>\n",
       "      <td>2024-03-01</td>\n",
       "      <td>45000.0</td>\n",
       "      <td>18200.0</td>\n",
       "      <td>48200.0</td>\n",
       "      <td>0.0</td>\n",
       "      <td>0.0</td>\n",
       "      <td>33200.000000</td>\n",
       "      <td>33200.000000</td>\n",
       "    </tr>\n",
       "    <tr>\n",
       "      <th>3</th>\n",
       "      <td>Butter (Salted )</td>\n",
       "      <td>200 gm</td>\n",
       "      <td>2024-04-01</td>\n",
       "      <td>103800.0</td>\n",
       "      <td>45000.0</td>\n",
       "      <td>18200.0</td>\n",
       "      <td>48200.0</td>\n",
       "      <td>0.0</td>\n",
       "      <td>37133.333333</td>\n",
       "      <td>37133.333333</td>\n",
       "    </tr>\n",
       "    <tr>\n",
       "      <th>4</th>\n",
       "      <td>Butter (Salted )</td>\n",
       "      <td>200 gm</td>\n",
       "      <td>2024-05-01</td>\n",
       "      <td>71600.0</td>\n",
       "      <td>103800.0</td>\n",
       "      <td>45000.0</td>\n",
       "      <td>18200.0</td>\n",
       "      <td>0.0</td>\n",
       "      <td>55666.666667</td>\n",
       "      <td>53800.000000</td>\n",
       "    </tr>\n",
       "  </tbody>\n",
       "</table>\n",
       "</div>"
      ]
     },
     "execution_count": 9,
     "metadata": {},
     "output_type": "execute_result"
    }
   ],
   "execution_count": 9
  }
 ],
 "metadata": {
  "kernelspec": {
   "display_name": "Python [conda env:base] *",
   "language": "python",
   "name": "conda-base-py"
  },
  "language_info": {
   "codemirror_mode": {
    "name": "ipython",
    "version": 2
   },
   "file_extension": ".py",
   "mimetype": "text/x-python",
   "name": "python",
   "nbconvert_exporter": "python",
   "pygments_lexer": "ipython2",
   "version": "2.7.6"
  }
 },
 "nbformat": 4,
 "nbformat_minor": 5
}
