{
 "cells": [
  {
   "metadata": {},
   "cell_type": "markdown",
   "source": "BUILDING MODEL WITH BEST HYPER PARAMETARS",
   "id": "e4c71e161608f880"
  },
  {
   "cell_type": "code",
   "id": "initial_id",
   "metadata": {
    "collapsed": true,
    "ExecuteTime": {
     "end_time": "2025-07-08T15:26:00.892578Z",
     "start_time": "2025-07-08T15:25:59.946597Z"
    }
   },
   "source": [
    "import optuna\n",
    "import pandas as pd\n",
    "import numpy as np\n",
    "from catboost import CatBoostRegressor, Pool\n",
    "from sklearn.model_selection import TimeSeriesSplit\n",
    "from sklearn.metrics import mean_squared_error, mean_absolute_error, r2_score\n",
    "import matplotlib.pyplot as plt"
   ],
   "outputs": [],
   "execution_count": 26
  },
  {
   "metadata": {
    "ExecuteTime": {
     "end_time": "2025-07-08T14:52:59.949216Z",
     "start_time": "2025-07-08T14:52:59.937698Z"
    }
   },
   "cell_type": "code",
   "source": "df = pd.read_csv(\"Data/df_long_processed.csv\")",
   "id": "c25880fed0215350",
   "outputs": [],
   "execution_count": 9
  },
  {
   "metadata": {
    "ExecuteTime": {
     "end_time": "2025-07-08T14:53:02.040822Z",
     "start_time": "2025-07-08T14:53:02.015973Z"
    }
   },
   "cell_type": "code",
   "source": [
    "\n",
    "# Ensure Date column is datetime (critical for time sorting)\n",
    "df['Date'] = pd.to_datetime(df['Date'], errors='coerce')\n",
    "\n",
    "# Confirm column types\n",
    "df.info()\n"
   ],
   "id": "8c68c2fbfa8e6610",
   "outputs": [
    {
     "name": "stdout",
     "output_type": "stream",
     "text": [
      "<class 'pandas.core.frame.DataFrame'>\n",
      "RangeIndex: 731 entries, 0 to 730\n",
      "Data columns (total 10 columns):\n",
      " #   Column   Non-Null Count  Dtype         \n",
      "---  ------   --------------  -----         \n",
      " 0   Product  731 non-null    object        \n",
      " 1   Size     731 non-null    object        \n",
      " 2   Date     731 non-null    datetime64[ns]\n",
      " 3   Sales    725 non-null    float64       \n",
      " 4   lag_1    731 non-null    float64       \n",
      " 5   lag_2    731 non-null    float64       \n",
      " 6   lag_3    731 non-null    float64       \n",
      " 7   lag_12   731 non-null    float64       \n",
      " 8   roll_3   731 non-null    float64       \n",
      " 9   roll_6   731 non-null    float64       \n",
      "dtypes: datetime64[ns](1), float64(7), object(2)\n",
      "memory usage: 57.2+ KB\n"
     ]
    }
   ],
   "execution_count": 10
  },
  {
   "metadata": {},
   "cell_type": "markdown",
   "source": "Define features and target",
   "id": "fc1e9df9246a47fe"
  },
  {
   "metadata": {
    "ExecuteTime": {
     "end_time": "2025-07-08T14:56:42.340885Z",
     "start_time": "2025-07-08T14:56:42.323646Z"
    }
   },
   "cell_type": "code",
   "source": [
    "df['Date'] = pd.to_datetime(df['Date'], errors='coerce')\n",
    "\n",
    "df['Year'] = df['Date'].dt.year\n",
    "df['Month'] = df['Date'].dt.month\n",
    "\n",
    "features = ['Product', 'Size', 'Year', 'Month',\n",
    "            'lag_1', 'lag_2', 'lag_3', 'lag_12',\n",
    "            'roll_3', 'roll_6']\n",
    "\n",
    "target = 'Sales'\n",
    "\n",
    "df = df.dropna(subset=features + [target])\n",
    "\n",
    "df['Product'] = df['Product'].astype(str)\n",
    "df['Size'] = df['Size'].astype(str)\n",
    "\n",
    "X = df[features]\n",
    "y = df[target]\n",
    "\n",
    "cat_features = ['Product', 'Size']\n"
   ],
   "id": "1fc4b4fa8102917f",
   "outputs": [],
   "execution_count": 14
  },
  {
   "metadata": {},
   "cell_type": "markdown",
   "source": "Define the Optuna objective function",
   "id": "e2b6a1635ca33edb"
  },
  {
   "metadata": {
    "ExecuteTime": {
     "end_time": "2025-07-08T14:57:33.489932Z",
     "start_time": "2025-07-08T14:57:33.480158Z"
    }
   },
   "cell_type": "code",
   "source": [
    "def objective(trial):\n",
    "    params = {\n",
    "        'iterations': trial.suggest_int('iterations', 200, 1200),\n",
    "        'depth': trial.suggest_int('depth', 4, 10),\n",
    "        'learning_rate': trial.suggest_float('learning_rate', 0.01, 0.3, log=True),\n",
    "        'l2_leaf_reg': trial.suggest_float('l2_leaf_reg', 1e-2, 10.0, log=True),\n",
    "        'random_seed': 42,\n",
    "        'loss_function': 'RMSE',\n",
    "        'early_stopping_rounds': 50,\n",
    "        'verbose': 0\n",
    "    }\n",
    "\n",
    "    tscv = TimeSeriesSplit(n_splits=4)\n",
    "    rmse_scores = []\n",
    "\n",
    "    for train_idx, val_idx in tscv.split(X):\n",
    "        X_train, X_val = X.iloc[train_idx], X.iloc[val_idx]\n",
    "        y_train, y_val = y.iloc[train_idx], y.iloc[val_idx]\n",
    "\n",
    "        train_pool = Pool(X_train, y_train, cat_features=cat_features)\n",
    "        val_pool = Pool(X_val, y_val, cat_features=cat_features)\n",
    "\n",
    "        model = CatBoostRegressor(**params)\n",
    "        model.fit(train_pool, eval_set=val_pool, use_best_model=True)\n",
    "        preds = model.predict(X_val)\n",
    "\n",
    "        rmse = np.sqrt(mean_squared_error(y_val, preds))\n",
    "        rmse_scores.append(rmse)\n",
    "\n",
    "    return np.mean(rmse_scores)\n"
   ],
   "id": "ef9d4765c20bf3cc",
   "outputs": [],
   "execution_count": 15
  },
  {
   "metadata": {},
   "cell_type": "markdown",
   "source": "Run the Optuna optimization",
   "id": "722db55f75ebd598"
  },
  {
   "metadata": {
    "ExecuteTime": {
     "end_time": "2025-07-08T15:07:04.006604Z",
     "start_time": "2025-07-08T14:58:23.632966Z"
    }
   },
   "cell_type": "code",
   "source": [
    "study = optuna.create_study(direction='minimize')\n",
    "study.optimize(objective, n_trials=30)  # increase trials for more robust tuning\n",
    "\n",
    "print(\"Best Trial:\")\n",
    "print(f\"  RMSE: {study.best_trial.value:.2f}\")\n",
    "print(\"  Params:\")\n",
    "for k, v in study.best_trial.params.items():\n",
    "    print(f\"    {k}: {v}\")\n"
   ],
   "id": "826dedcf3d97f7fc",
   "outputs": [
    {
     "name": "stderr",
     "output_type": "stream",
     "text": [
      "[I 2025-07-08 20:28:23,636] A new study created in memory with name: no-name-966fc4da-f555-44ed-862c-73033da64307\n",
      "[I 2025-07-08 20:28:34,523] Trial 0 finished with value: 619101.9658273496 and parameters: {'iterations': 1119, 'depth': 5, 'learning_rate': 0.06927322111217066, 'l2_leaf_reg': 0.03649253340962642}. Best is trial 0 with value: 619101.9658273496.\n",
      "[I 2025-07-08 20:28:51,970] Trial 1 finished with value: 630430.4825797983 and parameters: {'iterations': 249, 'depth': 9, 'learning_rate': 0.23961786204473187, 'l2_leaf_reg': 2.4975989579509283}. Best is trial 0 with value: 619101.9658273496.\n",
      "[I 2025-07-08 20:29:20,630] Trial 2 finished with value: 627466.2053068201 and parameters: {'iterations': 360, 'depth': 9, 'learning_rate': 0.08853400979683748, 'l2_leaf_reg': 0.05360005851103949}. Best is trial 0 with value: 619101.9658273496.\n",
      "[I 2025-07-08 20:29:53,342] Trial 3 finished with value: 640901.0652283621 and parameters: {'iterations': 722, 'depth': 10, 'learning_rate': 0.091193978008195, 'l2_leaf_reg': 0.10355239836374586}. Best is trial 0 with value: 619101.9658273496.\n",
      "[I 2025-07-08 20:30:36,978] Trial 4 finished with value: 636028.2646288536 and parameters: {'iterations': 1163, 'depth': 10, 'learning_rate': 0.05761729447644643, 'l2_leaf_reg': 0.3992087951372002}. Best is trial 0 with value: 619101.9658273496.\n",
      "[I 2025-07-08 20:30:46,473] Trial 5 finished with value: 624910.9309416225 and parameters: {'iterations': 1010, 'depth': 6, 'learning_rate': 0.14225655448885927, 'l2_leaf_reg': 0.5399419527016031}. Best is trial 0 with value: 619101.9658273496.\n",
      "[I 2025-07-08 20:31:20,032] Trial 6 finished with value: 627366.6353514635 and parameters: {'iterations': 637, 'depth': 7, 'learning_rate': 0.03046222220685491, 'l2_leaf_reg': 0.06715903836824992}. Best is trial 0 with value: 619101.9658273496.\n",
      "[I 2025-07-08 20:31:48,510] Trial 7 finished with value: 631918.1384432843 and parameters: {'iterations': 762, 'depth': 9, 'learning_rate': 0.08873367738085247, 'l2_leaf_reg': 0.01681764379086312}. Best is trial 0 with value: 619101.9658273496.\n",
      "[I 2025-07-08 20:32:03,908] Trial 8 finished with value: 618690.0969948748 and parameters: {'iterations': 559, 'depth': 4, 'learning_rate': 0.04227275127042567, 'l2_leaf_reg': 0.02028319960107306}. Best is trial 8 with value: 618690.0969948748.\n",
      "[I 2025-07-08 20:32:12,938] Trial 9 finished with value: 617844.1074257153 and parameters: {'iterations': 389, 'depth': 5, 'learning_rate': 0.1437975728836813, 'l2_leaf_reg': 0.6348527199738198}. Best is trial 9 with value: 617844.1074257153.\n",
      "[I 2025-07-08 20:32:40,444] Trial 10 finished with value: 628390.4633681762 and parameters: {'iterations': 442, 'depth': 4, 'learning_rate': 0.013220752953859743, 'l2_leaf_reg': 6.422444126126119}. Best is trial 9 with value: 617844.1074257153.\n",
      "[I 2025-07-08 20:32:54,398] Trial 11 finished with value: 619354.9360221945 and parameters: {'iterations': 543, 'depth': 4, 'learning_rate': 0.030170296943601856, 'l2_leaf_reg': 1.1831055188761785}. Best is trial 9 with value: 617844.1074257153.\n",
      "[I 2025-07-08 20:33:00,639] Trial 12 finished with value: 613236.1180429787 and parameters: {'iterations': 204, 'depth': 5, 'learning_rate': 0.29544977361584684, 'l2_leaf_reg': 0.1837840368605683}. Best is trial 12 with value: 613236.1180429787.\n",
      "[I 2025-07-08 20:33:11,097] Trial 13 finished with value: 618458.9433440823 and parameters: {'iterations': 310, 'depth': 6, 'learning_rate': 0.2807760750781325, 'l2_leaf_reg': 0.1617818211005773}. Best is trial 12 with value: 613236.1180429787.\n",
      "[I 2025-07-08 20:33:21,416] Trial 14 finished with value: 617651.5014190152 and parameters: {'iterations': 212, 'depth': 6, 'learning_rate': 0.18065063802756273, 'l2_leaf_reg': 0.22738121181051435}. Best is trial 12 with value: 613236.1180429787.\n",
      "[I 2025-07-08 20:33:32,563] Trial 15 finished with value: 625801.56079108 and parameters: {'iterations': 205, 'depth': 7, 'learning_rate': 0.1818878605447738, 'l2_leaf_reg': 0.20787250912537825}. Best is trial 12 with value: 613236.1180429787.\n",
      "[I 2025-07-08 20:33:42,954] Trial 16 finished with value: 621669.9634619262 and parameters: {'iterations': 850, 'depth': 6, 'learning_rate': 0.20196333769838845, 'l2_leaf_reg': 1.4475581288461814}. Best is trial 12 with value: 613236.1180429787.\n",
      "[I 2025-07-08 20:33:49,777] Trial 17 finished with value: 619079.9484616376 and parameters: {'iterations': 455, 'depth': 5, 'learning_rate': 0.28764966345029636, 'l2_leaf_reg': 0.2246759186043967}. Best is trial 12 with value: 613236.1180429787.\n",
      "[I 2025-07-08 20:34:07,614] Trial 18 finished with value: 620974.8552736737 and parameters: {'iterations': 209, 'depth': 8, 'learning_rate': 0.1346930215266891, 'l2_leaf_reg': 0.10192208553621634}. Best is trial 12 with value: 613236.1180429787.\n",
      "[I 2025-07-08 20:35:18,569] Trial 19 finished with value: 635206.9177456504 and parameters: {'iterations': 913, 'depth': 6, 'learning_rate': 0.0114929689743256, 'l2_leaf_reg': 7.688561480881182}. Best is trial 12 with value: 613236.1180429787.\n",
      "[I 2025-07-08 20:35:26,294] Trial 20 finished with value: 617181.1943720244 and parameters: {'iterations': 309, 'depth': 5, 'learning_rate': 0.191930297135109, 'l2_leaf_reg': 0.92688496486823}. Best is trial 12 with value: 613236.1180429787.\n",
      "[I 2025-07-08 20:35:35,089] Trial 21 finished with value: 617240.8248939279 and parameters: {'iterations': 297, 'depth': 5, 'learning_rate': 0.1879993490917046, 'l2_leaf_reg': 0.7959241092379014}. Best is trial 12 with value: 613236.1180429787.\n",
      "[I 2025-07-08 20:35:45,194] Trial 22 finished with value: 621918.260302838 and parameters: {'iterations': 294, 'depth': 5, 'learning_rate': 0.12417111523453117, 'l2_leaf_reg': 3.06128685355271}. Best is trial 12 with value: 613236.1180429787.\n",
      "[I 2025-07-08 20:35:52,551] Trial 23 finished with value: 622880.2619398677 and parameters: {'iterations': 494, 'depth': 5, 'learning_rate': 0.2080475991863384, 'l2_leaf_reg': 1.0104141702609548}. Best is trial 12 with value: 613236.1180429787.\n",
      "[I 2025-07-08 20:35:58,399] Trial 24 finished with value: 615848.0283353672 and parameters: {'iterations': 348, 'depth': 4, 'learning_rate': 0.2688408134137923, 'l2_leaf_reg': 2.4614711127632183}. Best is trial 12 with value: 613236.1180429787.\n",
      "[I 2025-07-08 20:36:04,103] Trial 25 finished with value: 622189.5119101966 and parameters: {'iterations': 379, 'depth': 4, 'learning_rate': 0.2968916758985883, 'l2_leaf_reg': 2.391734248038993}. Best is trial 12 with value: 613236.1180429787.\n",
      "[I 2025-07-08 20:36:12,987] Trial 26 finished with value: 617878.362284965 and parameters: {'iterations': 626, 'depth': 4, 'learning_rate': 0.11245187684213838, 'l2_leaf_reg': 4.45721752594834}. Best is trial 12 with value: 613236.1180429787.\n",
      "[I 2025-07-08 20:36:18,244] Trial 27 finished with value: 620592.3017865149 and parameters: {'iterations': 344, 'depth': 4, 'learning_rate': 0.23951150201441973, 'l2_leaf_reg': 0.43355435055129743}. Best is trial 12 with value: 613236.1180429787.\n",
      "[I 2025-07-08 20:36:57,375] Trial 28 finished with value: 633983.8497397223 and parameters: {'iterations': 417, 'depth': 7, 'learning_rate': 0.01939220829304763, 'l2_leaf_reg': 1.7627834024540745}. Best is trial 12 with value: 613236.1180429787.\n",
      "[I 2025-07-08 20:37:04,002] Trial 29 finished with value: 615996.8568787713 and parameters: {'iterations': 501, 'depth': 5, 'learning_rate': 0.2324307463605801, 'l2_leaf_reg': 0.034423958145831726}. Best is trial 12 with value: 613236.1180429787.\n"
     ]
    },
    {
     "name": "stdout",
     "output_type": "stream",
     "text": [
      "Best Trial:\n",
      "  RMSE: 613236.12\n",
      "  Params:\n",
      "    iterations: 204\n",
      "    depth: 5\n",
      "    learning_rate: 0.29544977361584684\n",
      "    l2_leaf_reg: 0.1837840368605683\n"
     ]
    }
   ],
   "execution_count": 16
  },
  {
   "metadata": {
    "ExecuteTime": {
     "end_time": "2025-07-08T15:15:11.375495Z",
     "start_time": "2025-07-08T15:15:05.443085Z"
    }
   },
   "cell_type": "code",
   "source": [
    "# Get best params and retrain final model\n",
    "best_params = study.best_trial.params\n",
    "best_params.update({\n",
    "    'loss_function': 'RMSE',\n",
    "    'random_seed': 42,\n",
    "    'verbose': 100\n",
    "})\n",
    "\n",
    "final_model = CatBoostRegressor(**best_params)\n",
    "final_model.fit(Pool(X, y, cat_features=['Product', 'Size']))\n"
   ],
   "id": "be1d8950eac6c7e9",
   "outputs": [
    {
     "name": "stdout",
     "output_type": "stream",
     "text": [
      "0:\tlearn: 785650.6669132\ttotal: 25ms\tremaining: 5.08s\n",
      "100:\tlearn: 11467.2804357\ttotal: 3.02s\tremaining: 3.08s\n",
      "200:\tlearn: 4881.8372034\ttotal: 5.33s\tremaining: 79.5ms\n",
      "203:\tlearn: 4832.5134611\ttotal: 5.39s\tremaining: 0us\n"
     ]
    },
    {
     "data": {
      "text/plain": [
       "<catboost.core.CatBoostRegressor at 0x1e2bee51ee0>"
      ]
     },
     "execution_count": 18,
     "metadata": {},
     "output_type": "execute_result"
    }
   ],
   "execution_count": 18
  },
  {
   "metadata": {
    "ExecuteTime": {
     "end_time": "2025-07-08T15:19:52.727457Z",
     "start_time": "2025-07-08T15:19:52.710802Z"
    }
   },
   "cell_type": "code",
   "source": [
    "y_pred = final_model.predict(X)\n",
    "\n",
    "rmse = np.sqrt(mean_squared_error(y, y_pred))\n",
    "mae = mean_absolute_error(y, y_pred)\n",
    "r2 = r2_score(y, y_pred)\n",
    "\n",
    "print(f\"Evaluation Results:\")\n",
    "print(f\"  RMSE: {rmse:,.2f}\")\n",
    "print(f\"  MAE:  {mae:,.2f}\")\n",
    "print(f\"  R²:   {r2:.4f}\")"
   ],
   "id": "9bdc3c794fb6dde1",
   "outputs": [
    {
     "name": "stdout",
     "output_type": "stream",
     "text": [
      "Evaluation Results:\n",
      "  RMSE: 18,324.10\n",
      "  MAE:  7,161.14\n",
      "  R²:   0.9997\n"
     ]
    }
   ],
   "execution_count": 21
  },
  {
   "metadata": {
    "ExecuteTime": {
     "end_time": "2025-07-08T15:20:01.587301Z",
     "start_time": "2025-07-08T15:20:01.509738Z"
    }
   },
   "cell_type": "code",
   "source": [
    "final_model.save_model(\"catboost_sales_model.cbm\")\n",
    "print(\"Model saved as 'catboost_sales_model.cbm'\")"
   ],
   "id": "539913537bab02ad",
   "outputs": [
    {
     "name": "stdout",
     "output_type": "stream",
     "text": [
      "Model saved as 'catboost_sales_model.cbm'\n"
     ]
    }
   ],
   "execution_count": 22
  },
  {
   "metadata": {
    "ExecuteTime": {
     "end_time": "2025-07-08T15:22:39.446875Z",
     "start_time": "2025-07-08T15:22:39.435397Z"
    }
   },
   "cell_type": "code",
   "source": [
    "model_loaded = CatBoostRegressor()\n",
    "model_loaded.load_model(\"Models/catboost_sales_model.cbm\")"
   ],
   "id": "a04c578ed4d1409e",
   "outputs": [
    {
     "data": {
      "text/plain": [
       "<catboost.core.CatBoostRegressor at 0x1e2b60b8da0>"
      ]
     },
     "execution_count": 23,
     "metadata": {},
     "output_type": "execute_result"
    }
   ],
   "execution_count": 23
  },
  {
   "metadata": {
    "ExecuteTime": {
     "end_time": "2025-07-08T15:25:28.235302Z",
     "start_time": "2025-07-08T15:25:28.223069Z"
    }
   },
   "cell_type": "code",
   "source": [
    "importances = final_model.get_feature_importance()\n",
    "feature_names = final_model.feature_names_\n",
    "\n",
    "for name, score in sorted(zip(feature_names, importances), key=lambda x: -x[1]):\n",
    "    print(f\"{name:12s} : {score:.2f}\")\n"
   ],
   "id": "8841146d35fc2dad",
   "outputs": [
    {
     "name": "stdout",
     "output_type": "stream",
     "text": [
      "lag_1        : 48.19\n",
      "lag_2        : 13.13\n",
      "roll_6       : 11.30\n",
      "lag_3        : 9.17\n",
      "roll_3       : 8.23\n",
      "Product      : 7.11\n",
      "Month        : 2.45\n",
      "Size         : 0.18\n",
      "lag_12       : 0.17\n",
      "Year         : 0.07\n"
     ]
    }
   ],
   "execution_count": 24
  },
  {
   "metadata": {
    "ExecuteTime": {
     "end_time": "2025-07-08T15:26:06.007517Z",
     "start_time": "2025-07-08T15:26:05.661247Z"
    }
   },
   "cell_type": "code",
   "source": [
    "# Plotting\n",
    "plt.figure(figsize=(10, 6))\n",
    "plt.barh(feature_names, importances, color='skyblue')\n",
    "plt.xlabel(\"Importance Score\")\n",
    "plt.title(\"CatBoost Feature Importance\")\n",
    "plt.gca().invert_yaxis()  # Highest importance at top\n",
    "plt.grid(axis='x', linestyle='--', alpha=0.7)\n",
    "plt.tight_layout()\n",
    "plt.show()\n"
   ],
   "id": "b3177fc4a3b46e7f",
   "outputs": [
    {
     "data": {
      "text/plain": [
       "<Figure size 1000x600 with 1 Axes>"
      ],
      "image/png": "[encoded data removed]"
     },
     "metadata": {},
     "output_type": "display_data"
    }
   ],
   "execution_count": 27
  }
 ],
 "metadata": {
  "kernelspec": {
   "display_name": "Python [conda env:base] *",
   "language": "python",
   "name": "conda-base-py"
  },
  "language_info": {
   "codemirror_mode": {
    "name": "ipython",
    "version": 2
   },
   "file_extension": ".py",
   "mimetype": "text/x-python",
   "name": "python",
   "nbconvert_exporter": "python",
   "pygments_lexer": "ipython2",
   "version": "2.7.6"
  }
 },
 "nbformat": 4,
 "nbformat_minor": 5
}
